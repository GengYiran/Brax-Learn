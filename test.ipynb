{
 "cells": [
  {
   "cell_type": "code",
   "execution_count": 2,
   "metadata": {},
   "outputs": [],
   "source": [
    "import brax\n",
    "from matplotlib.lines import Line2D\n",
    "from matplotlib.patches import Circle\n",
    "import matplotlib.pyplot as plt\n",
    "\n",
    "#@title A bouncy ball scene\n",
    "bouncy_ball = brax.Config(dt=0.05, substeps=20, dynamics_mode='pbd')\n",
    "\n",
    "# ground is a frozen (immovable) infinite plane\n",
    "ground = bouncy_ball.bodies.add(name='ground')\n",
    "ground.frozen.all = True\n",
    "plane = ground.colliders.add().plane\n",
    "plane.SetInParent()  # for setting an empty oneof\n",
    "\n",
    "# ball weighs 1kg, has equal rotational inertia along all axes, is 1m long, and\n",
    "# has an initial rotation of identity (w=1,x=0,y=0,z=0) quaternion\n",
    "ball = bouncy_ball.bodies.add(name='ball', mass=1)\n",
    "cap = ball.colliders.add().capsule\n",
    "cap.radius, cap.length = 0.5, 1\n",
    "\n",
    "# gravity is -9.8 m/s^2 in z dimension\n",
    "bouncy_ball.gravity.z = -9.8"
   ]
  },
  {
   "cell_type": "code",
   "execution_count": 3,
   "metadata": {},
   "outputs": [
    {
     "data": {
      "image/png": "[encoded data removed]",
      "text/plain": [
       "<Figure size 432x288 with 1 Axes>"
      ]
     },
     "metadata": {
      "needs_background": "light"
     },
     "output_type": "display_data"
    }
   ],
   "source": [
    "def draw_system(ax, pos, alpha=1):\n",
    "  for i, p in enumerate(pos):\n",
    "    ax.add_patch(Circle(xy=(p[0], p[2]), radius=cap.radius, fill=False, color=(0, 0, 0, alpha)))\n",
    "    if i < len(pos) - 1:\n",
    "      pn = pos[i + 1]\n",
    "      ax.add_line(Line2D([p[0], pn[0]], [p[2], pn[2]], color=(1, 0, 0, alpha)))\n",
    "\n",
    "_, ax = plt.subplots()\n",
    "plt.xlim([-3, 3])\n",
    "plt.ylim([0, 4])\n",
    "\n",
    "draw_system(ax, [[0, 0, 0.5]])\n",
    "plt.title('ball at rest')\n",
    "plt.show()"
   ]
  }
 ],
 "metadata": {
  "kernelspec": {
   "display_name": "Python 3.7.12 ('rlgpu')",
   "language": "python",
   "name": "python3"
  },
  "language_info": {
   "codemirror_mode": {
    "name": "ipython",
    "version": 3
   },
   "file_extension": ".py",
   "mimetype": "text/x-python",
   "name": "python",
   "nbconvert_exporter": "python",
   "pygments_lexer": "ipython3",
   "version": "3.7.12"
  },
  "orig_nbformat": 4,
  "vscode": {
   "interpreter": {
    "hash": "c4cc2089cbe7350bd099252527c3249377d1d128baf5d14eee81570e8ccbda32"
   }
  }
 },
 "nbformat": 4,
 "nbformat_minor": 2
}
